{
  "nbformat": 4,
  "nbformat_minor": 0,
  "metadata": {
    "colab": {
      "provenance": []
    },
    "kernelspec": {
      "name": "python3",
      "display_name": "Python 3"
    },
    "language_info": {
      "name": "python"
    }
  },
  "cells": [
    {
      "cell_type": "markdown",
      "source": [
        "# Atividade 2: Previsão das doenças cardiácas utilizando Regressão Logística"
      ],
      "metadata": {
        "id": "PoV8av2qYdS4"
      }
    },
    {
      "cell_type": "markdown",
      "source": [
        "## Passos a se seguir:\n",
        "* Análise Exploratória dos dados com visualizações\n",
        "* Preparação dos dados do Dataframe para o modelo\n",
        "* Aplicação do modelo de Regressão Logística\n",
        "* Conclusões acerca da atividade"
      ],
      "metadata": {
        "id": "hZIC5dwFZGP-"
      }
    },
    {
      "cell_type": "markdown",
      "source": [
        "##  Análise Exploratória dos dados com visualizações"
      ],
      "metadata": {
        "id": "paM4GYNvZJ_I"
      }
    },
    {
      "cell_type": "markdown",
      "source": [
        "### A análise exploratória de dados (EDA) é usada por cientistas de dados para analisar e investigar os conjuntos de dados e resumir suas principais características, muitas vezes usando métodos de visualização de dados.\n",
        "\n",
        "### Primeiro passo para isso é conhecermos com o quê estamos trabalhando e quais as propriedades nele contidas: "
      ],
      "metadata": {
        "id": "UsRi2NGqZ-xC"
      }
    },
    {
      "cell_type": "code",
      "source": [
        "# Vamos começar importando as bibliotecas necessárias para isso\n",
        "import pandas as pd # Biblioteca que usamos para manipular nossas tabelas\n",
        "import matplotlib.pyplot as plt # Essa será usada para criação de gráficos que permitem analisar nossos dados melhor\n",
        "\n",
        "# E, o mais importante, importar o nosso dataset, que nada mais é que o conjunto de dados que iremos analisar\n",
        "# Iremos ler o dataset e atribuir a um Dataframe, que é uma estrutura do pandas que facilita a manipulação dos dados\n",
        "df = pd.read_csv('https://raw.githubusercontent.com/victor-ferreira/dataset/main/exercicio2.csv')\n",
        "\n",
        "# Vamos visualizar um pouco do nosso DF, mostrando as 5 primeiras entradas\n",
        "df.head()"
      ],
      "metadata": {
        "colab": {
          "base_uri": "https://localhost:8080/",
          "height": 270
        },
        "id": "28XKgtQhacQZ",
        "outputId": "99358692-6436-4020-d343-fc66a4544c6a"
      },
      "execution_count": null,
      "outputs": [
        {
          "output_type": "execute_result",
          "data": {
            "text/plain": [
              "   age  sex  cp  trestbps  chol  fbs  restecg  thalach  exang  oldpeak  slope  \\\n",
              "0   63    1   3       145   233    1        0      150      0      2.3      0   \n",
              "1   37    1   2       130   250    0        1      187      0      3.5      0   \n",
              "2   41    0   1       130   204    0        0      172      0      1.4      2   \n",
              "3   56    1   1       120   236    0        1      178      0      0.8      2   \n",
              "4   57    0   0       120   354    0        1      163      1      0.6      2   \n",
              "\n",
              "   ca  thal  target  \n",
              "0   0     1       1  \n",
              "1   0     2       1  \n",
              "2   0     2       1  \n",
              "3   0     2       1  \n",
              "4   0     2       1  "
            ],
            "text/html": [
              "\n",
              "  <div id=\"df-669352bf-c7e7-4e90-b03c-4696f24894c9\">\n",
              "    <div class=\"colab-df-container\">\n",
              "      <div>\n",
              "<style scoped>\n",
              "    .dataframe tbody tr th:only-of-type {\n",
              "        vertical-align: middle;\n",
              "    }\n",
              "\n",
              "    .dataframe tbody tr th {\n",
              "        vertical-align: top;\n",
              "    }\n",
              "\n",
              "    .dataframe thead th {\n",
              "        text-align: right;\n",
              "    }\n",
              "</style>\n",
              "<table border=\"1\" class=\"dataframe\">\n",
              "  <thead>\n",
              "    <tr style=\"text-align: right;\">\n",
              "      <th></th>\n",
              "      <th>age</th>\n",
              "      <th>sex</th>\n",
              "      <th>cp</th>\n",
              "      <th>trestbps</th>\n",
              "      <th>chol</th>\n",
              "      <th>fbs</th>\n",
              "      <th>restecg</th>\n",
              "      <th>thalach</th>\n",
              "      <th>exang</th>\n",
              "      <th>oldpeak</th>\n",
              "      <th>slope</th>\n",
              "      <th>ca</th>\n",
              "      <th>thal</th>\n",
              "      <th>target</th>\n",
              "    </tr>\n",
              "  </thead>\n",
              "  <tbody>\n",
              "    <tr>\n",
              "      <th>0</th>\n",
              "      <td>63</td>\n",
              "      <td>1</td>\n",
              "      <td>3</td>\n",
              "      <td>145</td>\n",
              "      <td>233</td>\n",
              "      <td>1</td>\n",
              "      <td>0</td>\n",
              "      <td>150</td>\n",
              "      <td>0</td>\n",
              "      <td>2.3</td>\n",
              "      <td>0</td>\n",
              "      <td>0</td>\n",
              "      <td>1</td>\n",
              "      <td>1</td>\n",
              "    </tr>\n",
              "    <tr>\n",
              "      <th>1</th>\n",
              "      <td>37</td>\n",
              "      <td>1</td>\n",
              "      <td>2</td>\n",
              "      <td>130</td>\n",
              "      <td>250</td>\n",
              "      <td>0</td>\n",
              "      <td>1</td>\n",
              "      <td>187</td>\n",
              "      <td>0</td>\n",
              "      <td>3.5</td>\n",
              "      <td>0</td>\n",
              "      <td>0</td>\n",
              "      <td>2</td>\n",
              "      <td>1</td>\n",
              "    </tr>\n",
              "    <tr>\n",
              "      <th>2</th>\n",
              "      <td>41</td>\n",
              "      <td>0</td>\n",
              "      <td>1</td>\n",
              "      <td>130</td>\n",
              "      <td>204</td>\n",
              "      <td>0</td>\n",
              "      <td>0</td>\n",
              "      <td>172</td>\n",
              "      <td>0</td>\n",
              "      <td>1.4</td>\n",
              "      <td>2</td>\n",
              "      <td>0</td>\n",
              "      <td>2</td>\n",
              "      <td>1</td>\n",
              "    </tr>\n",
              "    <tr>\n",
              "      <th>3</th>\n",
              "      <td>56</td>\n",
              "      <td>1</td>\n",
              "      <td>1</td>\n",
              "      <td>120</td>\n",
              "      <td>236</td>\n",
              "      <td>0</td>\n",
              "      <td>1</td>\n",
              "      <td>178</td>\n",
              "      <td>0</td>\n",
              "      <td>0.8</td>\n",
              "      <td>2</td>\n",
              "      <td>0</td>\n",
              "      <td>2</td>\n",
              "      <td>1</td>\n",
              "    </tr>\n",
              "    <tr>\n",
              "      <th>4</th>\n",
              "      <td>57</td>\n",
              "      <td>0</td>\n",
              "      <td>0</td>\n",
              "      <td>120</td>\n",
              "      <td>354</td>\n",
              "      <td>0</td>\n",
              "      <td>1</td>\n",
              "      <td>163</td>\n",
              "      <td>1</td>\n",
              "      <td>0.6</td>\n",
              "      <td>2</td>\n",
              "      <td>0</td>\n",
              "      <td>2</td>\n",
              "      <td>1</td>\n",
              "    </tr>\n",
              "  </tbody>\n",
              "</table>\n",
              "</div>\n",
              "      <button class=\"colab-df-convert\" onclick=\"convertToInteractive('df-669352bf-c7e7-4e90-b03c-4696f24894c9')\"\n",
              "              title=\"Convert this dataframe to an interactive table.\"\n",
              "              style=\"display:none;\">\n",
              "        \n",
              "  <svg xmlns=\"http://www.w3.org/2000/svg\" height=\"24px\"viewBox=\"0 0 24 24\"\n",
              "       width=\"24px\">\n",
              "    <path d=\"M0 0h24v24H0V0z\" fill=\"none\"/>\n",
              "    <path d=\"M18.56 5.44l.94 2.06.94-2.06 2.06-.94-2.06-.94-.94-2.06-.94 2.06-2.06.94zm-11 1L8.5 8.5l.94-2.06 2.06-.94-2.06-.94L8.5 2.5l-.94 2.06-2.06.94zm10 10l.94 2.06.94-2.06 2.06-.94-2.06-.94-.94-2.06-.94 2.06-2.06.94z\"/><path d=\"M17.41 7.96l-1.37-1.37c-.4-.4-.92-.59-1.43-.59-.52 0-1.04.2-1.43.59L10.3 9.45l-7.72 7.72c-.78.78-.78 2.05 0 2.83L4 21.41c.39.39.9.59 1.41.59.51 0 1.02-.2 1.41-.59l7.78-7.78 2.81-2.81c.8-.78.8-2.07 0-2.86zM5.41 20L4 18.59l7.72-7.72 1.47 1.35L5.41 20z\"/>\n",
              "  </svg>\n",
              "      </button>\n",
              "      \n",
              "  <style>\n",
              "    .colab-df-container {\n",
              "      display:flex;\n",
              "      flex-wrap:wrap;\n",
              "      gap: 12px;\n",
              "    }\n",
              "\n",
              "    .colab-df-convert {\n",
              "      background-color: #E8F0FE;\n",
              "      border: none;\n",
              "      border-radius: 50%;\n",
              "      cursor: pointer;\n",
              "      display: none;\n",
              "      fill: #1967D2;\n",
              "      height: 32px;\n",
              "      padding: 0 0 0 0;\n",
              "      width: 32px;\n",
              "    }\n",
              "\n",
              "    .colab-df-convert:hover {\n",
              "      background-color: #E2EBFA;\n",
              "      box-shadow: 0px 1px 2px rgba(60, 64, 67, 0.3), 0px 1px 3px 1px rgba(60, 64, 67, 0.15);\n",
              "      fill: #174EA6;\n",
              "    }\n",
              "\n",
              "    [theme=dark] .colab-df-convert {\n",
              "      background-color: #3B4455;\n",
              "      fill: #D2E3FC;\n",
              "    }\n",
              "\n",
              "    [theme=dark] .colab-df-convert:hover {\n",
              "      background-color: #434B5C;\n",
              "      box-shadow: 0px 1px 3px 1px rgba(0, 0, 0, 0.15);\n",
              "      filter: drop-shadow(0px 1px 2px rgba(0, 0, 0, 0.3));\n",
              "      fill: #FFFFFF;\n",
              "    }\n",
              "  </style>\n",
              "\n",
              "      <script>\n",
              "        const buttonEl =\n",
              "          document.querySelector('#df-669352bf-c7e7-4e90-b03c-4696f24894c9 button.colab-df-convert');\n",
              "        buttonEl.style.display =\n",
              "          google.colab.kernel.accessAllowed ? 'block' : 'none';\n",
              "\n",
              "        async function convertToInteractive(key) {\n",
              "          const element = document.querySelector('#df-669352bf-c7e7-4e90-b03c-4696f24894c9');\n",
              "          const dataTable =\n",
              "            await google.colab.kernel.invokeFunction('convertToInteractive',\n",
              "                                                     [key], {});\n",
              "          if (!dataTable) return;\n",
              "\n",
              "          const docLinkHtml = 'Like what you see? Visit the ' +\n",
              "            '<a target=\"_blank\" href=https://colab.research.google.com/notebooks/data_table.ipynb>data table notebook</a>'\n",
              "            + ' to learn more about interactive tables.';\n",
              "          element.innerHTML = '';\n",
              "          dataTable['output_type'] = 'display_data';\n",
              "          await google.colab.output.renderOutput(dataTable, element);\n",
              "          const docLink = document.createElement('div');\n",
              "          docLink.innerHTML = docLinkHtml;\n",
              "          element.appendChild(docLink);\n",
              "        }\n",
              "      </script>\n",
              "    </div>\n",
              "  </div>\n",
              "  "
            ]
          },
          "metadata": {},
          "execution_count": 1
        }
      ]
    },
    {
      "cell_type": "code",
      "source": [
        "# Para acelerar o nosso processo de identificação do DF, vamos utilizar um método chamado info para verificar\n",
        "# as principais propriedades do mesmo, sabendo também a quantidade de nulos (caso houver):\n",
        "df.info()"
      ],
      "metadata": {
        "colab": {
          "base_uri": "https://localhost:8080/"
        },
        "id": "v_MshBj6bVH7",
        "outputId": "e1069ce2-84b9-46c5-be2d-6c6e8843318b"
      },
      "execution_count": null,
      "outputs": [
        {
          "output_type": "stream",
          "name": "stdout",
          "text": [
            "<class 'pandas.core.frame.DataFrame'>\n",
            "RangeIndex: 303 entries, 0 to 302\n",
            "Data columns (total 14 columns):\n",
            " #   Column    Non-Null Count  Dtype  \n",
            "---  ------    --------------  -----  \n",
            " 0   age       303 non-null    int64  \n",
            " 1   sex       303 non-null    int64  \n",
            " 2   cp        303 non-null    int64  \n",
            " 3   trestbps  303 non-null    int64  \n",
            " 4   chol      303 non-null    int64  \n",
            " 5   fbs       303 non-null    int64  \n",
            " 6   restecg   303 non-null    int64  \n",
            " 7   thalach   303 non-null    int64  \n",
            " 8   exang     303 non-null    int64  \n",
            " 9   oldpeak   303 non-null    float64\n",
            " 10  slope     303 non-null    int64  \n",
            " 11  ca        303 non-null    int64  \n",
            " 12  thal      303 non-null    int64  \n",
            " 13  target    303 non-null    int64  \n",
            "dtypes: float64(1), int64(13)\n",
            "memory usage: 33.3 KB\n"
          ]
        }
      ]
    },
    {
      "cell_type": "code",
      "source": [
        "# O método info nos dá muita informação sobre com o quê estamos trabalhando, mas não nos permite conhecer\n",
        "# todas as informações das colunas, por isso, iremos usar um método chamado dtypes para ver os tipos das nossas colunas\n",
        "df.dtypes"
      ],
      "metadata": {
        "colab": {
          "base_uri": "https://localhost:8080/"
        },
        "id": "pzyIbfZ_bn01",
        "outputId": "af97172b-d3b1-44b2-befe-0791b8d84504"
      },
      "execution_count": null,
      "outputs": [
        {
          "output_type": "execute_result",
          "data": {
            "text/plain": [
              "age           int64\n",
              "sex           int64\n",
              "cp            int64\n",
              "trestbps      int64\n",
              "chol          int64\n",
              "fbs           int64\n",
              "restecg       int64\n",
              "thalach       int64\n",
              "exang         int64\n",
              "oldpeak     float64\n",
              "slope         int64\n",
              "ca            int64\n",
              "thal          int64\n",
              "target        int64\n",
              "dtype: object"
            ]
          },
          "metadata": {},
          "execution_count": 3
        }
      ]
    },
    {
      "cell_type": "code",
      "source": [
        "# Podemos perceber que todas as nossas colunas possuem valores numéricos, sendo os int inteiros e float os números \n",
        "# de ponto flutuante, que basicamente quer dizer que possue uma virgula nele.\n",
        "\n",
        "# Agora, mesmo com o info e columns, ainda não sabemos de certeza se não há valores vazios na nossa tabela\n",
        "# Para verificar isso, podemos utilizar o método isnull junto com o sum para dar o total de nulos que temos:\n",
        "df.isnull().sum()"
      ],
      "metadata": {
        "colab": {
          "base_uri": "https://localhost:8080/"
        },
        "id": "c0qeDHvJcA7r",
        "outputId": "f964f6b8-ffed-4e2d-f5d2-d0b30bc986b9"
      },
      "execution_count": null,
      "outputs": [
        {
          "output_type": "execute_result",
          "data": {
            "text/plain": [
              "age         0\n",
              "sex         0\n",
              "cp          0\n",
              "trestbps    0\n",
              "chol        0\n",
              "fbs         0\n",
              "restecg     0\n",
              "thalach     0\n",
              "exang       0\n",
              "oldpeak     0\n",
              "slope       0\n",
              "ca          0\n",
              "thal        0\n",
              "target      0\n",
              "dtype: int64"
            ]
          },
          "metadata": {},
          "execution_count": 4
        }
      ]
    },
    {
      "cell_type": "code",
      "source": [
        "# Agora que temos certeza que não há valores nulos na tabela, podemos já fazer algumas visualizações com os dados\n",
        "# Podemos visualizar uma relação entre a idade 'age' e 'thalach' que é o máximo ritmo cardíaco alcançado de cada paciente\n",
        "# sobre o 'thalach' tive que pesquisar online para visualizar o dicionário de colunas.\n",
        "\n",
        "# Um bom gráfico para ver esses dados é o Scatterplot, que é um gráfico de dispersão que nos permite visualizar aonde há\n",
        "# maior densidade de certos valores, podendo ser importante para a aparição de doenças cardiovasculares\n",
        "\n",
        "# Plotando um Scatterplot\n",
        "# Precisamos definir uma figura e os eixos dela, para isso usamos o fig e o ax:\n",
        "fig, ax = plt.subplots()\n",
        "\n",
        "# Plotando relação entre idade e batimentos cardiácos:\n",
        "df.plot.scatter(x='age', y='thalach', ax=ax, s=15)\n",
        "ax.set_title('Idade e Máximo Ritmo Cardiáco Alcançado')\n",
        "ax.set_xlabel('Idade')\n",
        "ax.set_ylabel('Máximo Ritmo Cardiáco')\n",
        "\n",
        "plt.tight_layout()"
      ],
      "metadata": {
        "colab": {
          "base_uri": "https://localhost:8080/",
          "height": 297
        },
        "id": "E7MSW3_KdKFs",
        "outputId": "aaf32a18-b6c3-4875-f0e4-eb3d04f12ec7"
      },
      "execution_count": null,
      "outputs": [
        {
          "output_type": "display_data",
          "data": {
            "text/plain": [
              "<Figure size 432x288 with 1 Axes>"
            ],
            "image/png": "[encoded data removed]"
          },
          "metadata": {
            "needs_background": "light"
          }
        }
      ]
    },
    {
      "cell_type": "markdown",
      "source": [
        "### Podemos analisar um decréscimo do Máximo Ritmo Cardíaco ao aumentarmos a idade, sendo realmente algo lógico, já que o ritmo cardíaco descresce conforme ficamos mais velhos."
      ],
      "metadata": {
        "id": "J19T768gomhs"
      }
    },
    {
      "cell_type": "code",
      "source": [
        "# Nessa visualização podemos ver um decréscimo de máximo ritmo cardiáco ao longo da idade dos entrevistados\n",
        "\n",
        "# Podemos também ver se há alguma relação entre a presença de colesterol alto nos pacientes entrevistados\n",
        "# e também a pressão sanguínea irregular pode ser um fator importante para analisar estes dados.\n",
        "# Por isso, vamos usar o gráfico de boxplot para vermos a média de ambos os valores, os máximos e mínimos e os quartis\n",
        "\n",
        "# Os valores de colesterol estão marcados por 'chol' e de pressão sanguínea por 'trestbps'\n",
        "fig, ax = plt.subplots(figsize=(10,8))\n",
        "\n",
        "df.boxplot(['chol'],by='target', ax=ax)\n",
        "ax.set_title('Relação entre Colesterol e Problemas Cardíacos')\n",
        "ax.set_ylabel('Valores de Colesterol mg/dl')\n",
        "ax.set_xlabel('Presença ou não de doença cardiovascular')\n",
        "plt.show()"
      ],
      "metadata": {
        "colab": {
          "base_uri": "https://localhost:8080/",
          "height": 595
        },
        "id": "liecxtVFf5kK",
        "outputId": "92b46841-d96c-4045-80c5-72cfe3db7a5b"
      },
      "execution_count": null,
      "outputs": [
        {
          "output_type": "stream",
          "name": "stderr",
          "text": [
            "/usr/local/lib/python3.8/dist-packages/matplotlib/cbook/__init__.py:1376: VisibleDeprecationWarning: Creating an ndarray from ragged nested sequences (which is a list-or-tuple of lists-or-tuples-or ndarrays with different lengths or shapes) is deprecated. If you meant to do this, you must specify 'dtype=object' when creating the ndarray.\n",
            "  X = np.atleast_1d(X.T if isinstance(X, np.ndarray) else np.asarray(X))\n"
          ]
        },
        {
          "output_type": "display_data",
          "data": {
            "text/plain": [
              "<Figure size 720x576 with 1 Axes>"
            ],
            "image/png": "[encoded data removed]"
          },
          "metadata": {
            "needs_background": "light"
          }
        }
      ]
    },
    {
      "cell_type": "markdown",
      "source": [
        "### Podemos ver que os níveis de colesterol tem uma influência significável na presença de problemas cardiovasculares, sendo mais comum uma baixa de colesterol em pessoas que tem problemas cardiovasculares.\n",
        "\n",
        "### Porém, podemos analisar que pessoas que tem colesterol muito acima da média, por exemplo a pessoa com mais de 500 mg/dl tem maior probabilidade de ter problemas cardiovasculares."
      ],
      "metadata": {
        "id": "sdGzAq8iM2B5"
      }
    },
    {
      "cell_type": "code",
      "source": [
        "fig, ax = plt.subplots(figsize=(10,8))\n",
        "\n",
        "df.boxplot('trestbps', by='target', ax=ax)\n",
        "ax.set_title('Relação de Pressão Sanguínea a Presença de doença cardiovascular')\n",
        "ax.set_ylabel('Pressão Sanguínea em mm/Hg')\n",
        "ax.set_xlabel('Presença ou não de doença cardiovascular')\n",
        "plt.show()"
      ],
      "metadata": {
        "colab": {
          "base_uri": "https://localhost:8080/",
          "height": 595
        },
        "id": "EgWhSaZfFWk3",
        "outputId": "049366da-9dd2-4ff4-c86d-92c062fec7c8"
      },
      "execution_count": null,
      "outputs": [
        {
          "output_type": "stream",
          "name": "stderr",
          "text": [
            "/usr/local/lib/python3.8/dist-packages/matplotlib/cbook/__init__.py:1376: VisibleDeprecationWarning: Creating an ndarray from ragged nested sequences (which is a list-or-tuple of lists-or-tuples-or ndarrays with different lengths or shapes) is deprecated. If you meant to do this, you must specify 'dtype=object' when creating the ndarray.\n",
            "  X = np.atleast_1d(X.T if isinstance(X, np.ndarray) else np.asarray(X))\n"
          ]
        },
        {
          "output_type": "display_data",
          "data": {
            "text/plain": [
              "<Figure size 720x576 with 1 Axes>"
            ],
            "image/png": "[encoded data removed]"
          },
          "metadata": {
            "needs_background": "light"
          }
        }
      ]
    },
    {
      "cell_type": "markdown",
      "source": [
        "### Podemos ver que no gráfico dos valores de Pressão Sanguínea tivemos um padrão de 120 a 140, sendo a baixa pressão mais comum entre quem tem doença cardiovascular. Porém, podemos ver que a média de ambos é a mesma, indicando que naquele espectro de pressão sanguínea não há anormalidades, ao menos para essa categoria de valores.\n",
        "\n",
        "### Outra observação, as pessoas com taxas mais elevadas de pressão sanguínea aparentam ter uma chance menor de ter doenças cardiovasculares."
      ],
      "metadata": {
        "id": "GQhRZcxxErDy"
      }
    },
    {
      "cell_type": "markdown",
      "source": [
        "## Preparação dos dados do Dataframe para o modelo\n",
        "### Normalizar os dados para podermos usar no modelo de Regressão Logística"
      ],
      "metadata": {
        "id": "eKT9ksQ3swjO"
      }
    },
    {
      "cell_type": "code",
      "source": [
        "# Importar os pacotes necessários\n",
        "import pandas as pd\n",
        "import matplotlib.pyplot as plt\n",
        "import seaborn as sns # Será nossa biblioteca para visualização de gráficos\n",
        "\n",
        "# Por default, nesse notebook estamos usando o estilo matplotlib, então, para mudar isso fazemos assim:\n",
        "sns.set_style()"
      ],
      "metadata": {
        "id": "ahbYNSjws9rW"
      },
      "execution_count": null,
      "outputs": []
    },
    {
      "cell_type": "markdown",
      "source": [
        "###Temos que cumprir uma série de passos para ter um efetivo treinamento de nosso modelo de Regressão Logística, por isso, vamos fazer por etapas:\n",
        "1. Importar a bibliotecas que vão ser utilizadas para criação do modelo\n",
        "2. Instanciar e escolher os hiperparâmetros\n",
        "3. Separação dos dados em treino e teste\n",
        "4. Padronizar os dados de treino "
      ],
      "metadata": {
        "id": "qTA7hYATvRcq"
      }
    },
    {
      "cell_type": "code",
      "source": [
        "# Passo 1: importar as bibliotecas\n",
        "from sklearn.model_selection import train_test_split # Esse import é para auxiliar na divisão de treino e de teste\n",
        "from sklearn.preprocessing import StandardScaler # É quem fará a padronização dos dados para o modelo\n",
        "\n",
        "# Aqui serão as bibliotecas para avaliação de modelo\n",
        "from sklearn.metrics import classification_report # Mostrará importantes métricas\n",
        "from sklearn.metrics import confusion_matrix # Matriz de Confusão que é uma das principais formas de avaliação de modelo"
      ],
      "metadata": {
        "id": "bRUTx5-AvuGH"
      },
      "execution_count": null,
      "outputs": []
    },
    {
      "cell_type": "code",
      "source": [
        "# Passo 2: Instanciar e escolher os Hiperparâmetros\n",
        "# Aqui vamos instanciar qual será o nosso modelo para previsão de dados, que neste caso é um modelo\n",
        "# de Regressão Logística, precisando também importar este modelo:\n",
        "from sklearn.linear_model import LogisticRegression\n",
        "\n",
        "# Agora, vamos instanciar o nosso modelo para fazer Regressão Logística\n",
        "model = LogisticRegression()"
      ],
      "metadata": {
        "id": "MNKib0vmyFyj"
      },
      "execution_count": null,
      "outputs": []
    },
    {
      "cell_type": "code",
      "source": [
        "# Passo 3: Separação dos dados de treino e de teste\n",
        "# Para esse passo, precisamos encontrar a variável dependente, que basicamente é a variável que queremos\n",
        "# prever com o nosso modelo, que neste caso é se há ou não doença cardíaca, indicada pela coluna 'target'\n",
        "\n",
        "# Então, vamos instanciar uma parte para os resultados e outra para os parâmetros que vamos analisar\n",
        "# O x será os parâmetros que iremos analisar e o y os resultados:\n",
        "x = df.drop('target', axis=1)\n",
        "y = df['target']\n",
        "\n",
        "# Após isso, podemos usar o método que importamos 'train_test_split()' para dividirmos os dados de treino e teste\n",
        "x_train, x_test, y_train, y_test = train_test_split(x, y)"
      ],
      "metadata": {
        "id": "zK-wYgauyvst"
      },
      "execution_count": null,
      "outputs": []
    },
    {
      "cell_type": "code",
      "source": [
        "# Passo 4: Padronizar os dados de treino\n",
        "# Vamos padronizar os dados de treino utilizando o método 'StandardScaler' que importamos\n",
        "# Precisamos disso pois facilita a compreensão pelo nosso modelo, aumentando assim a precisão final\n",
        "\n",
        "scaler = StandardScaler().fit(x_train)\n",
        "x_train = scaler.transform(x_train)"
      ],
      "metadata": {
        "id": "xLa-120V0LLb"
      },
      "execution_count": null,
      "outputs": []
    },
    {
      "cell_type": "markdown",
      "source": [
        "## Aplicação do modelo de Regressão Logística"
      ],
      "metadata": {
        "id": "-rgFhqwx1M0k"
      }
    },
    {
      "cell_type": "markdown",
      "source": [
        "###Agora, depois de analisar, filtrar os dados e transformar-los para uma forma que o Modelo melhor compreenda, podemos finalmente aplicar o modelo de Regressão Logística. Então precisamos agora treinar o modelo e avaliar-lo de acordo com as métricas que importamos."
      ],
      "metadata": {
        "id": "dikDm4OD1ROG"
      }
    },
    {
      "cell_type": "code",
      "source": [
        "# Para realizar o treinamento podemos usar o método fit\n",
        "# para as variáveis de treinamento x_train e y_train:\n",
        "model.fit(x_train, y_train)\n",
        "\n",
        "# E agora finalmente podemos testar, fazendo a previsão em cima de novos dados\n",
        "x_test = scaler.transform(x_test)\n",
        "y_pred = model.predict(x_test)"
      ],
      "metadata": {
        "id": "AnNmusd72QDw"
      },
      "execution_count": null,
      "outputs": []
    },
    {
      "cell_type": "markdown",
      "source": [
        "###Agora vamos avaliar nosso modelo, utilizando o relatório de classificação e a matriz de confusão:"
      ],
      "metadata": {
        "id": "5iI0wyqO3Nuh"
      }
    },
    {
      "cell_type": "code",
      "source": [
        "# Imprimindo relatório de classificação\n",
        "print(classification_report(y_test, y_pred))"
      ],
      "metadata": {
        "colab": {
          "base_uri": "https://localhost:8080/"
        },
        "id": "Ko5MBY4-3Xnw",
        "outputId": "c01e8f62-442f-4446-b017-c5d503f36b2b"
      },
      "execution_count": null,
      "outputs": [
        {
          "output_type": "stream",
          "name": "stdout",
          "text": [
            "              precision    recall  f1-score   support\n",
            "\n",
            "           0       0.81      0.79      0.80        33\n",
            "           1       0.84      0.86      0.85        43\n",
            "\n",
            "    accuracy                           0.83        76\n",
            "   macro avg       0.83      0.82      0.83        76\n",
            "weighted avg       0.83      0.83      0.83        76\n",
            "\n"
          ]
        }
      ]
    },
    {
      "cell_type": "markdown",
      "source": [
        "###Podemos ver várias métricas importantes para determinar a qualidade do nosso modelo, mostrando por exemplo a precisão para achar se há ou não doença cardiovascular:\n",
        "* Em precision, podemos ver que houve uma precisão de 81% para achar as pessoas que não tem problema cardiovascular (marcadas por 0). E, para encontrar pessoas com problemas cardiovasculares temos uma precisão de 84% (marcadas por 1).\n",
        "* Acurácia de 83% geral, mostrando que o nosso modelo realmente é eficaz em determinar quais pacientes tem ou não tem problemas cardiovasculares.\n",
        "\n"
      ],
      "metadata": {
        "id": "_OJ7U-a253vq"
      }
    },
    {
      "cell_type": "code",
      "source": [
        "# Plotar a matriz de confusão\n",
        "fig, ax = plt.subplots()\n",
        "sns.heatmap(confusion_matrix(y_test, y_pred), annot=True, ax=ax)\n",
        "\n",
        "ax.set_title('Matriz de Confusão')\n",
        "ax.set_ylabel('Valor Verdadeiro')\n",
        "ax.set_xlabel('Previsões')\n",
        "\n",
        "plt.show()"
      ],
      "metadata": {
        "colab": {
          "base_uri": "https://localhost:8080/",
          "height": 295
        },
        "id": "RvXFreL13chD",
        "outputId": "a2ca60fe-16c6-44e5-dbf0-4457f3edb215"
      },
      "execution_count": null,
      "outputs": [
        {
          "output_type": "display_data",
          "data": {
            "text/plain": [
              "<Figure size 432x288 with 2 Axes>"
            ],
            "image/png": "[encoded data removed]"
          },
          "metadata": {
            "needs_background": "light"
          }
        }
      ]
    },
    {
      "cell_type": "markdown",
      "source": [
        "### Matriz de Confusão\n",
        "### Neste gráfico podemos ver a quantidade de acertos e erros do nosso modelo, sendo os acertos mostrados pelas correspondentes colunas e linhas, (0, 0) e (1, 1) e os erros pelas coordenadas (0,1) e (1,0). Aqui vai a leitura do Gráfico de Confusão:\n",
        "* Em identificar pessoas que não tem doença cardiovascular (marcadas por 0), o modelo acertou 26 e errou 6.\n",
        "* Em identificar pessoas que tem doença cardiovascular (marcadas por 1), o modelo acertou 37 e errou 7.\n"
      ],
      "metadata": {
        "id": "w7D95CBa64O9"
      }
    },
    {
      "cell_type": "markdown",
      "source": [
        "## Conclusão\n"
      ],
      "metadata": {
        "id": "-amU1AK432H0"
      }
    },
    {
      "cell_type": "markdown",
      "source": [
        "\n",
        "### Creio que maior parte das relações entre os dados vistos no dataset de problemas cardiovasculares são difíceis de se relacionar somente em pares, sendo preciso realmente um método mais sofisticado para determinar se há ou não problemas cardiovasculares. Portanto, algo como esse Modelo de Regressão Linear realmente auxilia bastante a encontrar padrões que seriam quase impossíveis de encontrar a olho humano.\n",
        "\n",
        "### Apesar das dificuldades, foi uma atividade bastante divertida de fazer visto que dispertou ainda mais da minha curiosidade acerca de métodos para o estudo dos dados e também de sua importância como um todo.\n",
        "\n",
        "### Pode parecer pouco mas uma efetividade de 83% para prever doenças cardiovasculares é capaz de salvar várias vidas e também poupar as inúmeras consultas médicas que as pessoas fazem até descobrir que realmente há problemas graves nos pacientes."
      ],
      "metadata": {
        "id": "lPkq7OrN8k9R"
      }
    }
  ]
}